{
 "cells": [
  {
   "cell_type": "markdown",
   "metadata": {},
   "source": [
    "# Extending these workflows to other repositories\n",
    "**IMPORTANT**: Please be respectful of understanding the licenses of repositories you choose to crawl with any tools, including those provided in this demonstration. This repository is intended to help you quickly get started indexing documentation in GitHub repositories, not for large-scale web scraping."
   ]
  },
  {
   "cell_type": "markdown",
   "metadata": {},
   "source": [
    "## The main tool"
   ]
  },
  {
   "cell_type": "code",
   "execution_count": 1,
   "metadata": {
    "vscode": {
     "languageId": "plaintext"
    }
   },
   "outputs": [],
   "source": [
    "from rag_tools.repo.ops import DocumentationExtractor"
   ]
  },
  {
   "cell_type": "markdown",
   "metadata": {},
   "source": [
    "The `DocumentationExtractor` has two functions, `filter_files` and `extract`."
   ]
  },
  {
   "cell_type": "markdown",
   "metadata": {},
   "source": [
    "## Finding files to chunk\n",
    "First, a set of parameters defining how to crawl a GitHub repository is passed to a custom object defined in `rag_tools.repo.ops.DocumentationExtractor`. One option is to clone a repository and pass a local path to `filter_files` to return all the paths to the `considered_extensions`"
   ]
  },
  {
   "cell_type": "code",
   "execution_count": 7,
   "metadata": {
    "vscode": {
     "languageId": "plaintext"
    }
   },
   "outputs": [],
   "source": [
    "import os\n",
    "METAFLOW_DOCS_REPO_PATH = os.path.expanduser(\"~/Dev/metaflow-docs\")\n",
    "file_paths = DocumentationExtractor().filter_files(\n",
    "    METAFLOW_DOCS_REPO_PATH,\n",
    "    base_search_path = \"docs\",\n",
    "    exclude_paths = [\"docs/v\"],\n",
    "    exclude_files = [\"README.md\", \"README\"],\n",
    "    considered_extensions = [\".md\"],\n",
    ")"
   ]
  },
  {
   "cell_type": "code",
   "execution_count": 9,
   "metadata": {},
   "outputs": [
    {
     "data": {
      "text/plain": [
       "(58, ('/Users/eddie/Dev/metaflow-docs/docs/index.md', 'index.md'))"
      ]
     },
     "execution_count": 9,
     "metadata": {},
     "output_type": "execute_result"
    }
   ],
   "source": [
    "len(file_paths), file_paths[0]"
   ]
  },
  {
   "cell_type": "markdown",
   "metadata": {},
   "source": [
    "Another workflow option is to only download the repository temporarily by passing the remote repositories URL to `extract`, and letting this function handle the `filter_files` call and any other parsing internally."
   ]
  },
  {
   "cell_type": "code",
   "execution_count": 19,
   "metadata": {},
   "outputs": [],
   "source": [
    "import pandas as pd\n",
    "from functools import partial\n",
    "from rag_tools.filetypes.markdown import parse_md_file_headers\n",
    "\n",
    "# we will pass this to the extract(parser=...) arg. \n",
    "# you can replace this with any function that takes in filepath and filename args.\n",
    "def headers_df_parser(filepath, filename, deployment_url, subdir) -> pd.DataFrame:\n",
    "    return parse_md_file_headers(filepath, deployment_url=deployment_url, subdir=subdir)"
   ]
  },
  {
   "cell_type": "code",
   "execution_count": 20,
   "metadata": {},
   "outputs": [],
   "source": [
    "params = {\n",
    "    \"deployment_url\": \"docs.metaflow.org\",\n",
    "    \"repository_path\": \"https://github.com/Netflix/metaflow-docs\",\n",
    "    \"repository_ref\": \"master\",\n",
    "    \"base_search_path\": \"docs\",\n",
    "    \"exclude_paths\": [\"docs/v\"],\n",
    "    \"exclude_files\": [\"README.md\", \"README\"],\n",
    "}"
   ]
  },
  {
   "cell_type": "code",
   "execution_count": 21,
   "metadata": {},
   "outputs": [],
   "source": [
    "extractor = DocumentationExtractor(repo_url=params[\"repository_path\"])\n",
    "\n",
    "dfs = extractor.extract(\n",
    "    base_path=params[\"base_search_path\"],\n",
    "    ref=params[\"repository_ref\"],\n",
    "    exclude_paths=params[\"exclude_paths\"],\n",
    "    exclude_files=params[\"exclude_files\"],\n",
    "    considered_extensions=[\".md\"],\n",
    "    parser=partial(headers_df_parser, deployment_url=params['deployment_url'], subdir=params['base_search_path']),\n",
    ")"
   ]
  },
  {
   "cell_type": "code",
   "execution_count": 24,
   "metadata": {},
   "outputs": [],
   "source": [
    "df = pd.concat(dfs)"
   ]
  },
  {
   "cell_type": "code",
   "execution_count": 26,
   "metadata": {},
   "outputs": [
    {
     "data": {
      "text/html": [
       "<div>\n",
       "<style scoped>\n",
       "    .dataframe tbody tr th:only-of-type {\n",
       "        vertical-align: middle;\n",
       "    }\n",
       "\n",
       "    .dataframe tbody tr th {\n",
       "        vertical-align: top;\n",
       "    }\n",
       "\n",
       "    .dataframe thead th {\n",
       "        text-align: right;\n",
       "    }\n",
       "</style>\n",
       "<table border=\"1\" class=\"dataframe\">\n",
       "  <thead>\n",
       "    <tr style=\"text-align: right;\">\n",
       "      <th></th>\n",
       "      <th>header</th>\n",
       "      <th>contents</th>\n",
       "      <th>type</th>\n",
       "      <th>page_url</th>\n",
       "      <th>is_howto</th>\n",
       "      <th>char_count</th>\n",
       "      <th>word_count</th>\n",
       "    </tr>\n",
       "  </thead>\n",
       "  <tbody>\n",
       "    <tr>\n",
       "      <th>10</th>\n",
       "      <td>**Store and load objects to/from a known S3 lo...</td>\n",
       "      <td>The above examples inferred the S3 location ba...</td>\n",
       "      <td>H4</td>\n",
       "      <td>https://docs.metaflow.org/scaling/data#store-a...</td>\n",
       "      <td>False</td>\n",
       "      <td>1367</td>\n",
       "      <td>219</td>\n",
       "    </tr>\n",
       "    <tr>\n",
       "      <th>0</th>\n",
       "      <td>Deploying Variants of Event-Triggered Flows</td>\n",
       "      <td>Consider this advanced scenario: You have depl...</td>\n",
       "      <td>H1</td>\n",
       "      <td>https://docs.metaflow.org/production/event-tri...</td>\n",
       "      <td>False</td>\n",
       "      <td>983</td>\n",
       "      <td>119</td>\n",
       "    </tr>\n",
       "    <tr>\n",
       "      <th>99</th>\n",
       "      <td>[Fix `environment is not callable` error when ...</td>\n",
       "      <td>Using `@environment` would often result in an ...</td>\n",
       "      <td>H4</td>\n",
       "      <td>https://docs.metaflow.org/internals/release-no...</td>\n",
       "      <td>False</td>\n",
       "      <td>279</td>\n",
       "      <td>34</td>\n",
       "    </tr>\n",
       "    <tr>\n",
       "      <th>71</th>\n",
       "      <td>State Machine execution history logging for AW...</td>\n",
       "      <td>Metaflow now logs [State Machine execution his...</td>\n",
       "      <td>H4</td>\n",
       "      <td>https://docs.metaflow.org/internals/release-no...</td>\n",
       "      <td>False</td>\n",
       "      <td>587</td>\n",
       "      <td>72</td>\n",
       "    </tr>\n",
       "    <tr>\n",
       "      <th>3</th>\n",
       "      <td>Single Flow, multiple developers</td>\n",
       "      <td>If `ProjectFlow` did not have a `@project deco...</td>\n",
       "      <td>H3</td>\n",
       "      <td>https://docs.metaflow.org/production/coordinat...</td>\n",
       "      <td>False</td>\n",
       "      <td>1773</td>\n",
       "      <td>232</td>\n",
       "    </tr>\n",
       "  </tbody>\n",
       "</table>\n",
       "</div>"
      ],
      "text/plain": [
       "                                               header  \\\n",
       "10  **Store and load objects to/from a known S3 lo...   \n",
       "0         Deploying Variants of Event-Triggered Flows   \n",
       "99  [Fix `environment is not callable` error when ...   \n",
       "71  State Machine execution history logging for AW...   \n",
       "3                    Single Flow, multiple developers   \n",
       "\n",
       "                                             contents type  \\\n",
       "10  The above examples inferred the S3 location ba...   H4   \n",
       "0   Consider this advanced scenario: You have depl...   H1   \n",
       "99  Using `@environment` would often result in an ...   H4   \n",
       "71  Metaflow now logs [State Machine execution his...   H4   \n",
       "3   If `ProjectFlow` did not have a `@project deco...   H3   \n",
       "\n",
       "                                             page_url  is_howto  char_count  \\\n",
       "10  https://docs.metaflow.org/scaling/data#store-a...     False        1367   \n",
       "0   https://docs.metaflow.org/production/event-tri...     False         983   \n",
       "99  https://docs.metaflow.org/internals/release-no...     False         279   \n",
       "71  https://docs.metaflow.org/internals/release-no...     False         587   \n",
       "3   https://docs.metaflow.org/production/coordinat...     False        1773   \n",
       "\n",
       "    word_count  \n",
       "10         219  \n",
       "0          119  \n",
       "99          34  \n",
       "71          72  \n",
       "3          232  "
      ]
     },
     "execution_count": 26,
     "metadata": {},
     "output_type": "execute_result"
    }
   ],
   "source": [
    "df.sample(5)"
   ]
  }
 ],
 "metadata": {
  "kernelspec": {
   "display_name": "RAG demo",
   "language": "python",
   "name": "rag-demo"
  },
  "language_info": {
   "codemirror_mode": {
    "name": "ipython",
    "version": 3
   },
   "file_extension": ".py",
   "mimetype": "text/x-python",
   "name": "python",
   "nbconvert_exporter": "python",
   "pygments_lexer": "ipython3",
   "version": "3.11.4"
  }
 },
 "nbformat": 4,
 "nbformat_minor": 4
}
